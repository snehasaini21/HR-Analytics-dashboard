{
  "nbformat": 4,
  "nbformat_minor": 0,
  "metadata": {
    "colab": {
      "provenance": [],
      "authorship_tag": "ABX9TyPYrImHA8qTvxCCMDkyZdiP",
      "include_colab_link": true
    },
    "kernelspec": {
      "name": "python3",
      "display_name": "Python 3"
    },
    "language_info": {
      "name": "python"
    }
  },
  "cells": [
    {
      "cell_type": "markdown",
      "metadata": {
        "id": "view-in-github",
        "colab_type": "text"
      },
      "source": [
        "<a href=\"https://colab.research.google.com/github/snehasaini21/HR-Analytics-dashboard/blob/main/Big_Data_Analytics_using_Pyspark.ipynb\" target=\"_parent\"><img src=\"https://colab.research.google.com/assets/colab-badge.svg\" alt=\"Open In Colab\"/></a>"
      ]
    },
    {
      "cell_type": "code",
      "execution_count": 1,
      "metadata": {
        "colab": {
          "base_uri": "https://localhost:8080/"
        },
        "id": "uZFN5wSpNOG8",
        "outputId": "fbecac0e-52e2-4622-fb2e-74ce646e483c"
      },
      "outputs": [
        {
          "output_type": "stream",
          "name": "stdout",
          "text": [
            "Requirement already satisfied: pyspark in /usr/local/lib/python3.11/dist-packages (3.5.1)\n",
            "Requirement already satisfied: py4j==0.10.9.7 in /usr/local/lib/python3.11/dist-packages (from pyspark) (0.10.9.7)\n"
          ]
        }
      ],
      "source": [
        "! pip install pyspark"
      ]
    },
    {
      "cell_type": "code",
      "source": [
        "from pyspark.sql import SparkSession"
      ],
      "metadata": {
        "id": "v6rJYLmXNYBF"
      },
      "execution_count": 2,
      "outputs": []
    },
    {
      "cell_type": "code",
      "source": [
        "spark = SparkSession.builder.appName('Pyspark').getOrCreate()"
      ],
      "metadata": {
        "id": "hArM2SOqNhis"
      },
      "execution_count": 3,
      "outputs": []
    },
    {
      "cell_type": "code",
      "source": [
        "spark"
      ],
      "metadata": {
        "colab": {
          "base_uri": "https://localhost:8080/",
          "height": 222
        },
        "id": "i_48TNVPNqyo",
        "outputId": "ce8d8a1e-7376-4b6c-a0f8-8bf65fe3b41b"
      },
      "execution_count": 4,
      "outputs": [
        {
          "output_type": "execute_result",
          "data": {
            "text/plain": [
              "<pyspark.sql.session.SparkSession at 0x7c5a3a819750>"
            ],
            "text/html": [
              "\n",
              "            <div>\n",
              "                <p><b>SparkSession - in-memory</b></p>\n",
              "                \n",
              "        <div>\n",
              "            <p><b>SparkContext</b></p>\n",
              "\n",
              "            <p><a href=\"http://c0b30eb080c3:4040\">Spark UI</a></p>\n",
              "\n",
              "            <dl>\n",
              "              <dt>Version</dt>\n",
              "                <dd><code>v3.5.1</code></dd>\n",
              "              <dt>Master</dt>\n",
              "                <dd><code>local[*]</code></dd>\n",
              "              <dt>AppName</dt>\n",
              "                <dd><code>Pyspark</code></dd>\n",
              "            </dl>\n",
              "        </div>\n",
              "        \n",
              "            </div>\n",
              "        "
            ]
          },
          "metadata": {},
          "execution_count": 4
        }
      ]
    },
    {
      "cell_type": "code",
      "source": [
        "df = spark.read.csv('/content/eCommercePK.csv', header = True, inferSchema=True )"
      ],
      "metadata": {
        "id": "qUAQMmSrNzW_"
      },
      "execution_count": 49,
      "outputs": []
    },
    {
      "cell_type": "markdown",
      "source": [
        "**1. Display Top 3 Rows of the Dataset**"
      ],
      "metadata": {
        "id": "7SNypFhGOshV"
      }
    },
    {
      "cell_type": "code",
      "source": [
        "df.show(3)"
      ],
      "metadata": {
        "colab": {
          "base_uri": "https://localhost:8080/"
        },
        "id": "Rbn3pLePOrKa",
        "outputId": "74b4fd43-bd0d-434a-dd80-0cb21aa259e0"
      },
      "execution_count": 12,
      "outputs": [
        {
          "output_type": "stream",
          "name": "stdout",
          "text": [
            "+--------+------------+------------+----------+--------+---+--------+-----+-------+\n",
            "|order_id|order_status|order_source|order_date|category|sku|quantity|sales|   city|\n",
            "+--------+------------+------------+----------+--------+---+--------+-----+-------+\n",
            "|    5447|     Shipped|    Whatsapp|04/01/2025|      CK|Dng|       1| 1590|Karachi|\n",
            "|   14127|     Shipped|         Web|08/01/2025|      CK|DIY|       1|  899|Karachi|\n",
            "|   14213|     Shipped|         Web|19/01/2025|      CK|DIY|       1|  899|Karachi|\n",
            "+--------+------------+------------+----------+--------+---+--------+-----+-------+\n",
            "only showing top 3 rows\n",
            "\n"
          ]
        }
      ]
    },
    {
      "cell_type": "markdown",
      "source": [
        "**2.** **Display Datatypes of Each Column**"
      ],
      "metadata": {
        "id": "ouxzbPExPna9"
      }
    },
    {
      "cell_type": "code",
      "source": [
        "df.printSchema()"
      ],
      "metadata": {
        "colab": {
          "base_uri": "https://localhost:8080/"
        },
        "id": "XOYPeIlNPzwM",
        "outputId": "2c53f74c-3f77-4fc8-fbf1-8f0c18280ec2"
      },
      "execution_count": 13,
      "outputs": [
        {
          "output_type": "stream",
          "name": "stdout",
          "text": [
            "root\n",
            " |-- order_id: integer (nullable = true)\n",
            " |-- order_status: string (nullable = true)\n",
            " |-- order_source: string (nullable = true)\n",
            " |-- order_date: string (nullable = true)\n",
            " |-- category: string (nullable = true)\n",
            " |-- sku: string (nullable = true)\n",
            " |-- quantity: integer (nullable = true)\n",
            " |-- sales: integer (nullable = true)\n",
            " |-- city: string (nullable = true)\n",
            "\n"
          ]
        }
      ]
    },
    {
      "cell_type": "markdown",
      "source": [
        "**3. Display Column Names**"
      ],
      "metadata": {
        "id": "35yPkKXsQITS"
      }
    },
    {
      "cell_type": "code",
      "source": [
        "df.columns"
      ],
      "metadata": {
        "colab": {
          "base_uri": "https://localhost:8080/"
        },
        "id": "i2Oo3UqaQNYU",
        "outputId": "f7d4dd60-fef3-4bc9-b8c9-d04aa7ecca73"
      },
      "execution_count": 14,
      "outputs": [
        {
          "output_type": "execute_result",
          "data": {
            "text/plain": [
              "['order_id',\n",
              " 'order_status',\n",
              " 'order_source',\n",
              " 'order_date',\n",
              " 'category',\n",
              " 'sku',\n",
              " 'quantity',\n",
              " 'sales',\n",
              " 'city']"
            ]
          },
          "metadata": {},
          "execution_count": 14
        }
      ]
    },
    {
      "cell_type": "markdown",
      "source": [
        "**4. Count Number of Rows and Columns of the dataset**"
      ],
      "metadata": {
        "id": "RGNj5tm-QQ_d"
      }
    },
    {
      "cell_type": "code",
      "source": [
        "df.count()"
      ],
      "metadata": {
        "colab": {
          "base_uri": "https://localhost:8080/"
        },
        "id": "CBJAYXZXQXuv",
        "outputId": "9c541230-e3a6-41df-e961-4db5bdaad972"
      },
      "execution_count": 18,
      "outputs": [
        {
          "output_type": "execute_result",
          "data": {
            "text/plain": [
              "797"
            ]
          },
          "metadata": {},
          "execution_count": 18
        }
      ]
    },
    {
      "cell_type": "code",
      "source": [
        "len(df.columns)"
      ],
      "metadata": {
        "colab": {
          "base_uri": "https://localhost:8080/"
        },
        "id": "5ir6Z8H6QlSD",
        "outputId": "c922ef16-abfe-4009-8718-6ccca4a103e5"
      },
      "execution_count": 19,
      "outputs": [
        {
          "output_type": "execute_result",
          "data": {
            "text/plain": [
              "9"
            ]
          },
          "metadata": {},
          "execution_count": 19
        }
      ]
    },
    {
      "cell_type": "markdown",
      "source": [
        "**5.Get Overall Statistics About The Dataset**"
      ],
      "metadata": {
        "id": "XgekOcsbQpkL"
      }
    },
    {
      "cell_type": "code",
      "source": [
        "df.describe().show()"
      ],
      "metadata": {
        "colab": {
          "base_uri": "https://localhost:8080/"
        },
        "id": "EemYC5xOQy6Z",
        "outputId": "2f0a56d0-41cf-463c-be3b-e45788a99241"
      },
      "execution_count": 22,
      "outputs": [
        {
          "output_type": "stream",
          "name": "stdout",
          "text": [
            "+-------+------------------+------------+------------+----------+--------+------+-------------------+------------------+-----------+\n",
            "|summary|          order_id|order_status|order_source|order_date|category|   sku|           quantity|             sales|       city|\n",
            "+-------+------------------+------------+------------+----------+--------+------+-------------------+------------------+-----------+\n",
            "|  count|               797|         797|         797|       797|     797|   797|                797|               797|        797|\n",
            "|   mean| 16662.68757841907|        NULL|        NULL|      NULL|    NULL|  NULL| 1.0589711417816814|1925.6850690087829|       NULL|\n",
            "| stddev|50759.151027788255|        NULL|        NULL|      NULL|    NULL|  NULL|0.42270419872343157| 1093.164198446063|       NULL|\n",
            "|    min|              5444|      Booked|         Web|01/01/2025|      CK|001-12|                  1|               899|ABDUL HAKIM|\n",
            "|    max|           1413666|     Shipped|    Whatsapp|31/05/2025|      WD|   pta|                  8|             13500| کھڈیاں خاص|\n",
            "+-------+------------------+------------+------------+----------+--------+------+-------------------+------------------+-----------+\n",
            "\n"
          ]
        }
      ]
    },
    {
      "cell_type": "markdown",
      "source": [
        "**6. Find Unique Values Available in the City column**"
      ],
      "metadata": {
        "id": "A21jjEChQ-QT"
      }
    },
    {
      "cell_type": "code",
      "source": [
        "unique_city = df.toPandas()['city'].unique()\n",
        "unique_city"
      ],
      "metadata": {
        "colab": {
          "base_uri": "https://localhost:8080/"
        },
        "id": "-vRBISMBQ16u",
        "outputId": "c6ab9d2f-0733-4ea6-be16-3d74fdb25894"
      },
      "execution_count": 28,
      "outputs": [
        {
          "output_type": "execute_result",
          "data": {
            "text/plain": [
              "array(['Karachi', 'Lahore', 'Hyderabad', 'Islamabad', 'Jampur', 'Swabi',\n",
              "       'Sambrial', 'Rawalpindi', 'Sialkot', 'Muzaffargarh', 'Sargodha',\n",
              "       'Sadiqabad', 'Charsadda', 'Gujrat', 'Mingora (swat)', 'Faisalabad',\n",
              "       'Kark', 'Gujranwala', 'Bahawalpur', 'Rahim yar khan', 'Mardan',\n",
              "       'bannu', 'Multan', 'Burewala', 'Dharki', 'Shorkot Cantt.',\n",
              "       'Mirpur (a. K)', 'Mianwali', 'Jamshoro', 'Quetta',\n",
              "       'Nowshera virkan', 'Sahiwal', 'Jhelum', 'KHAIR PUR MEERU',\n",
              "       'Peshawar', 'Pindi bhattian', 'Raiwind', 'MIRAN SHAH', 'Taxila',\n",
              "       'Mansehra', 'DAULAT PUR', 'Pattoki', 'Mailsi', 'Arifwala',\n",
              "       'Shikarpur', 'Sheikhupura', 'Kasur', 'Abbottabad', 'Khairpur',\n",
              "       'Turbat', 'Wah Cantt', 'Kamoki', 'KAMBER ALI KHAN', 'Kandhkot',\n",
              "       'GILGIT', 'Sukkur', 'Khanpur', 'ABDUL HAKIM', 'Kharian',\n",
              "       'Tando ala yar', 'Hasilpur', 'Gujar Khan', 'Mirpur Khas',\n",
              "       'BHAKKAR', 'Kabir Wala', 'Moro', 'Chistian', 'Sehwan', 'Depalpur',\n",
              "       'Tando Adam', 'Dera ala yar', 'SANGHAR', 'Hafizabad',\n",
              "       'Chicha Watni', 'Chakwal', 'Khanewal', 'Nawab Shah', 'Lodhran',\n",
              "       'Dera Ghazi Khan', 'Vehari', 'DARGAI', 'Batkhela', 'RENALAKHURD',\n",
              "       'Liaqatpur', 'Dera Ismail Khan', 'Retra', 'Okara', 'Zaida',\n",
              "       'Mandi Bahauddin', 'DIGRI', 'Lakki Marwat', 'Bahawalnagar',\n",
              "       'کھڈیاں خاص', 'Larkana', 'Batkhela Distt Malakand', 'kot addu',\n",
              "       'Pakpattan', 'Toba Tek Sing', 'Nowshera', 'Ghotki'], dtype=object)"
            ]
          },
          "metadata": {},
          "execution_count": 28
        }
      ]
    },
    {
      "cell_type": "code",
      "source": [
        "len(unique_city)"
      ],
      "metadata": {
        "colab": {
          "base_uri": "https://localhost:8080/"
        },
        "id": "NvMVS-5jRQoS",
        "outputId": "951742e6-97ae-4d08-ce55-16418a242091"
      },
      "execution_count": 29,
      "outputs": [
        {
          "output_type": "execute_result",
          "data": {
            "text/plain": [
              "100"
            ]
          },
          "metadata": {},
          "execution_count": 29
        }
      ]
    },
    {
      "cell_type": "markdown",
      "source": [
        "**7. How to Select Single Column**"
      ],
      "metadata": {
        "id": "JL3AzyLTSZ4I"
      }
    },
    {
      "cell_type": "code",
      "source": [
        "df.show()"
      ],
      "metadata": {
        "colab": {
          "base_uri": "https://localhost:8080/"
        },
        "id": "iYBggapaSqvE",
        "outputId": "d0c33090-e697-4ac8-e7f3-0d9925ca4cfd"
      },
      "execution_count": 30,
      "outputs": [
        {
          "output_type": "stream",
          "name": "stdout",
          "text": [
            "+--------+------------+------------+----------+--------+--------+--------+-----+-------+\n",
            "|order_id|order_status|order_source|order_date|category|     sku|quantity|sales|   city|\n",
            "+--------+------------+------------+----------+--------+--------+--------+-----+-------+\n",
            "|    5447|     Shipped|    Whatsapp|04/01/2025|      CK|     Dng|       1| 1590|Karachi|\n",
            "|   14127|     Shipped|         Web|08/01/2025|      CK|     DIY|       1|  899|Karachi|\n",
            "|   14213|     Shipped|         Web|19/01/2025|      CK|     DIY|       1|  899|Karachi|\n",
            "|   14333|     Shipped|         Web|05/02/2025|      CK| Simply9|       1|  990|Karachi|\n",
            "|   14397|     Shipped|         Web|16/02/2025|      CK| Simply9|       1|  990|Karachi|\n",
            "|   14517|     Shipped|         Web|19/03/2025|     GfT|  Eidi2p|       1|  999|Karachi|\n",
            "|   14265|     Shipped|         Web|25/01/2025|      CK|   Geo12|       1| 1090|Karachi|\n",
            "|   14325|     Shipped|         Web|03/02/2025|      CK|   Geo12|       1| 1090|Karachi|\n",
            "|   14356|     Shipped|         Web|08/02/2025|      CK|   Geo12|       1| 1090|Karachi|\n",
            "|   14451|     Shipped|         Web|26/02/2025|      CK|   Geo12|       1| 1090|Karachi|\n",
            "|   14765|     Shipped|         Web|23/05/2025|      CK|Simply12|       1| 1090|Karachi|\n",
            "|    5462|     Shipped|    Whatsapp|05/03/2025|      WD|Triangle|       1| 1090|Karachi|\n",
            "|   14171|     Shipped|         Web|13/01/2025|      CK| Minim12|       1| 1190|Karachi|\n",
            "|   14183|     Shipped|         Web|15/01/2025|      CK|  Gear12|       1| 1190|Karachi|\n",
            "|   14201|     Shipped|         Web|17/01/2025|     HNS|  201-12|       1| 1190|Karachi|\n",
            "|   14216|     Shipped|         Web|19/01/2025|      CK| Minim12|       1| 1190|Karachi|\n",
            "|   14291|     Shipped|         Web|28/01/2025|      CK| Swirl15|       1| 1190|Karachi|\n",
            "|   14342|     Shipped|         Web|06/02/2025|      WD| Circles|       1| 1190|Karachi|\n",
            "|   14342|     Shipped|         Web|06/02/2025|      CK| Minim12|       1| 1190|Karachi|\n",
            "|   14351|     Shipped|         Web|07/02/2025|      CK| Minim12|       1| 1190|Karachi|\n",
            "+--------+------------+------------+----------+--------+--------+--------+-----+-------+\n",
            "only showing top 20 rows\n",
            "\n"
          ]
        }
      ]
    },
    {
      "cell_type": "code",
      "source": [
        "df.select('city').show()"
      ],
      "metadata": {
        "colab": {
          "base_uri": "https://localhost:8080/"
        },
        "id": "DM34K-QISyJ8",
        "outputId": "8d161ce3-7aee-4d8a-ddcd-c5f4f4387231"
      },
      "execution_count": 31,
      "outputs": [
        {
          "output_type": "stream",
          "name": "stdout",
          "text": [
            "+-------+\n",
            "|   city|\n",
            "+-------+\n",
            "|Karachi|\n",
            "|Karachi|\n",
            "|Karachi|\n",
            "|Karachi|\n",
            "|Karachi|\n",
            "|Karachi|\n",
            "|Karachi|\n",
            "|Karachi|\n",
            "|Karachi|\n",
            "|Karachi|\n",
            "|Karachi|\n",
            "|Karachi|\n",
            "|Karachi|\n",
            "|Karachi|\n",
            "|Karachi|\n",
            "|Karachi|\n",
            "|Karachi|\n",
            "|Karachi|\n",
            "|Karachi|\n",
            "|Karachi|\n",
            "+-------+\n",
            "only showing top 20 rows\n",
            "\n"
          ]
        }
      ]
    },
    {
      "cell_type": "markdown",
      "source": [
        "**8. How to select multiple columns**"
      ],
      "metadata": {
        "id": "qSDLecnsTPCl"
      }
    },
    {
      "cell_type": "code",
      "source": [
        "df.select('city', 'sales').show()"
      ],
      "metadata": {
        "colab": {
          "base_uri": "https://localhost:8080/"
        },
        "id": "czJa-cuRTYA_",
        "outputId": "2cda06c4-dc7b-4945-8182-5661bea53d29"
      },
      "execution_count": 32,
      "outputs": [
        {
          "output_type": "stream",
          "name": "stdout",
          "text": [
            "+-------+-----+\n",
            "|   city|sales|\n",
            "+-------+-----+\n",
            "|Karachi| 1590|\n",
            "|Karachi|  899|\n",
            "|Karachi|  899|\n",
            "|Karachi|  990|\n",
            "|Karachi|  990|\n",
            "|Karachi|  999|\n",
            "|Karachi| 1090|\n",
            "|Karachi| 1090|\n",
            "|Karachi| 1090|\n",
            "|Karachi| 1090|\n",
            "|Karachi| 1090|\n",
            "|Karachi| 1090|\n",
            "|Karachi| 1190|\n",
            "|Karachi| 1190|\n",
            "|Karachi| 1190|\n",
            "|Karachi| 1190|\n",
            "|Karachi| 1190|\n",
            "|Karachi| 1190|\n",
            "|Karachi| 1190|\n",
            "|Karachi| 1190|\n",
            "+-------+-----+\n",
            "only showing top 20 rows\n",
            "\n"
          ]
        }
      ]
    },
    {
      "cell_type": "markdown",
      "source": [
        "**10. Create New Column Total Sales Value And Also Update Existing DataFrame**"
      ],
      "metadata": {
        "id": "UMRd23ELUDEJ"
      }
    },
    {
      "cell_type": "code",
      "source": [
        "from pyspark.sql.functions import col\n",
        "\n",
        "df = df.withColumn(\"total_value\", col(\"quantity\") * col(\"sales\"))\n",
        "\n",
        "df.show()"
      ],
      "metadata": {
        "colab": {
          "base_uri": "https://localhost:8080/"
        },
        "id": "WwiF1ZnfUNNw",
        "outputId": "04d95844-91d6-43cf-a485-2374dd2d484b"
      },
      "execution_count": 59,
      "outputs": [
        {
          "output_type": "stream",
          "name": "stdout",
          "text": [
            "+--------+------------+------------+----------+--------+------------------+--------+-----+-------+-----------+\n",
            "|order_id|order_status|order_source|order_date|category|Stock_Keeping_Unit|quantity|sales|   city|total_value|\n",
            "+--------+------------+------------+----------+--------+------------------+--------+-----+-------+-----------+\n",
            "|    5447|     Shipped|    Whatsapp|04/01/2025|      CK|               Dng|       1| 1590|Karachi|       1590|\n",
            "|   14127|     Shipped|         Web|08/01/2025|      CK|               DIY|       1|  899|Karachi|        899|\n",
            "|   14213|     Shipped|         Web|19/01/2025|      CK|               DIY|       1|  899|Karachi|        899|\n",
            "|   14333|     Shipped|         Web|05/02/2025|      CK|           Simply9|       1|  990|Karachi|        990|\n",
            "|   14397|     Shipped|         Web|16/02/2025|      CK|           Simply9|       1|  990|Karachi|        990|\n",
            "|   14517|     Shipped|         Web|19/03/2025|     GfT|            Eidi2p|       1|  999|Karachi|        999|\n",
            "|   14265|     Shipped|         Web|25/01/2025|      CK|             Geo12|       1| 1090|Karachi|       1090|\n",
            "|   14325|     Shipped|         Web|03/02/2025|      CK|             Geo12|       1| 1090|Karachi|       1090|\n",
            "|   14356|     Shipped|         Web|08/02/2025|      CK|             Geo12|       1| 1090|Karachi|       1090|\n",
            "|   14451|     Shipped|         Web|26/02/2025|      CK|             Geo12|       1| 1090|Karachi|       1090|\n",
            "|   14765|     Shipped|         Web|23/05/2025|      CK|          Simply12|       1| 1090|Karachi|       1090|\n",
            "|    5462|     Shipped|    Whatsapp|05/03/2025|      WD|          Triangle|       1| 1090|Karachi|       1090|\n",
            "|   14171|     Shipped|         Web|13/01/2025|      CK|           Minim12|       1| 1190|Karachi|       1190|\n",
            "|   14183|     Shipped|         Web|15/01/2025|      CK|            Gear12|       1| 1190|Karachi|       1190|\n",
            "|   14201|     Shipped|         Web|17/01/2025|     HNS|            201-12|       1| 1190|Karachi|       1190|\n",
            "|   14216|     Shipped|         Web|19/01/2025|      CK|           Minim12|       1| 1190|Karachi|       1190|\n",
            "|   14291|     Shipped|         Web|28/01/2025|      CK|           Swirl15|       1| 1190|Karachi|       1190|\n",
            "|   14342|     Shipped|         Web|06/02/2025|      WD|           Circles|       1| 1190|Karachi|       1190|\n",
            "|   14342|     Shipped|         Web|06/02/2025|      CK|           Minim12|       1| 1190|Karachi|       1190|\n",
            "|   14351|     Shipped|         Web|07/02/2025|      CK|           Minim12|       1| 1190|Karachi|       1190|\n",
            "+--------+------------+------------+----------+--------+------------------+--------+-----+-------+-----------+\n",
            "only showing top 20 rows\n",
            "\n"
          ]
        }
      ]
    },
    {
      "cell_type": "markdown",
      "source": [
        "**11. Finding unique values available in Quantity**"
      ],
      "metadata": {
        "id": "LqeDb3p3VnaM"
      }
    },
    {
      "cell_type": "code",
      "source": [
        "unique_quantity = df.toPandas()['quantity'].unique()\n",
        "unique_quantity"
      ],
      "metadata": {
        "colab": {
          "base_uri": "https://localhost:8080/"
        },
        "id": "14IBEZe9VVOl",
        "outputId": "8347558f-3b29-4512-fbcf-9f804d6521ac"
      },
      "execution_count": 60,
      "outputs": [
        {
          "output_type": "execute_result",
          "data": {
            "text/plain": [
              "array([1, 5, 2, 3, 4, 8], dtype=int32)"
            ]
          },
          "metadata": {},
          "execution_count": 60
        }
      ]
    },
    {
      "cell_type": "markdown",
      "source": [
        "**12. Rename sku Column And Give New Column Name as 'Stock Keeping Unit'**"
      ],
      "metadata": {
        "id": "Lg1BdoQeVy-j"
      }
    },
    {
      "cell_type": "code",
      "source": [
        "df = df.withColumnRenamed('sku', 'Stock_Keeping_Unit')"
      ],
      "metadata": {
        "id": "rwCegcq6Ve4C"
      },
      "execution_count": 61,
      "outputs": []
    },
    {
      "cell_type": "code",
      "source": [
        "df.show()"
      ],
      "metadata": {
        "colab": {
          "base_uri": "https://localhost:8080/"
        },
        "id": "ZxvS94N-WvtI",
        "outputId": "49c6a3fb-d55b-4a75-8b2b-70bd8e5292bf"
      },
      "execution_count": 62,
      "outputs": [
        {
          "output_type": "stream",
          "name": "stdout",
          "text": [
            "+--------+------------+------------+----------+--------+------------------+--------+-----+-------+-----------+\n",
            "|order_id|order_status|order_source|order_date|category|Stock_Keeping_Unit|quantity|sales|   city|total_value|\n",
            "+--------+------------+------------+----------+--------+------------------+--------+-----+-------+-----------+\n",
            "|    5447|     Shipped|    Whatsapp|04/01/2025|      CK|               Dng|       1| 1590|Karachi|       1590|\n",
            "|   14127|     Shipped|         Web|08/01/2025|      CK|               DIY|       1|  899|Karachi|        899|\n",
            "|   14213|     Shipped|         Web|19/01/2025|      CK|               DIY|       1|  899|Karachi|        899|\n",
            "|   14333|     Shipped|         Web|05/02/2025|      CK|           Simply9|       1|  990|Karachi|        990|\n",
            "|   14397|     Shipped|         Web|16/02/2025|      CK|           Simply9|       1|  990|Karachi|        990|\n",
            "|   14517|     Shipped|         Web|19/03/2025|     GfT|            Eidi2p|       1|  999|Karachi|        999|\n",
            "|   14265|     Shipped|         Web|25/01/2025|      CK|             Geo12|       1| 1090|Karachi|       1090|\n",
            "|   14325|     Shipped|         Web|03/02/2025|      CK|             Geo12|       1| 1090|Karachi|       1090|\n",
            "|   14356|     Shipped|         Web|08/02/2025|      CK|             Geo12|       1| 1090|Karachi|       1090|\n",
            "|   14451|     Shipped|         Web|26/02/2025|      CK|             Geo12|       1| 1090|Karachi|       1090|\n",
            "|   14765|     Shipped|         Web|23/05/2025|      CK|          Simply12|       1| 1090|Karachi|       1090|\n",
            "|    5462|     Shipped|    Whatsapp|05/03/2025|      WD|          Triangle|       1| 1090|Karachi|       1090|\n",
            "|   14171|     Shipped|         Web|13/01/2025|      CK|           Minim12|       1| 1190|Karachi|       1190|\n",
            "|   14183|     Shipped|         Web|15/01/2025|      CK|            Gear12|       1| 1190|Karachi|       1190|\n",
            "|   14201|     Shipped|         Web|17/01/2025|     HNS|            201-12|       1| 1190|Karachi|       1190|\n",
            "|   14216|     Shipped|         Web|19/01/2025|      CK|           Minim12|       1| 1190|Karachi|       1190|\n",
            "|   14291|     Shipped|         Web|28/01/2025|      CK|           Swirl15|       1| 1190|Karachi|       1190|\n",
            "|   14342|     Shipped|         Web|06/02/2025|      WD|           Circles|       1| 1190|Karachi|       1190|\n",
            "|   14342|     Shipped|         Web|06/02/2025|      CK|           Minim12|       1| 1190|Karachi|       1190|\n",
            "|   14351|     Shipped|         Web|07/02/2025|      CK|           Minim12|       1| 1190|Karachi|       1190|\n",
            "+--------+------------+------------+----------+--------+------------------+--------+-----+-------+-----------+\n",
            "only showing top 20 rows\n",
            "\n"
          ]
        }
      ]
    },
    {
      "cell_type": "markdown",
      "source": [
        "**13. Display the city having sales greater than 3000**"
      ],
      "metadata": {
        "id": "Lej8CrwRXiE9"
      }
    },
    {
      "cell_type": "code",
      "source": [
        "df.filter('sales > 3000').select('city').show()"
      ],
      "metadata": {
        "colab": {
          "base_uri": "https://localhost:8080/"
        },
        "id": "GG5CYt19XuMT",
        "outputId": "2bcbaff3-2a2b-4ef1-f801-821acc68af38"
      },
      "execution_count": 64,
      "outputs": [
        {
          "output_type": "stream",
          "name": "stdout",
          "text": [
            "+-------+\n",
            "|   city|\n",
            "+-------+\n",
            "|Karachi|\n",
            "|Karachi|\n",
            "|Karachi|\n",
            "|Karachi|\n",
            "|Karachi|\n",
            "|Karachi|\n",
            "|Karachi|\n",
            "|Karachi|\n",
            "| Lahore|\n",
            "| Lahore|\n",
            "| Lahore|\n",
            "| Lahore|\n",
            "| Lahore|\n",
            "| Lahore|\n",
            "| Lahore|\n",
            "| Lahore|\n",
            "| Lahore|\n",
            "| Lahore|\n",
            "| Lahore|\n",
            "| Lahore|\n",
            "+-------+\n",
            "only showing top 20 rows\n",
            "\n"
          ]
        }
      ]
    },
    {
      "cell_type": "markdown",
      "source": [
        "**14. Display total_value and city having sales greater than 3000**"
      ],
      "metadata": {
        "id": "baTQICjZYOHJ"
      }
    },
    {
      "cell_type": "code",
      "source": [
        "df.filter('sales > 3000').select('total_value', 'city').show()"
      ],
      "metadata": {
        "colab": {
          "base_uri": "https://localhost:8080/"
        },
        "id": "HBDVE05vYe2N",
        "outputId": "f3ee91d1-4f18-4d90-c01c-ab49a0fe658e"
      },
      "execution_count": 65,
      "outputs": [
        {
          "output_type": "stream",
          "name": "stdout",
          "text": [
            "+-----------+-------+\n",
            "|total_value|   city|\n",
            "+-----------+-------+\n",
            "|       3190|Karachi|\n",
            "|       3390|Karachi|\n",
            "|       3390|Karachi|\n",
            "|       3390|Karachi|\n",
            "|       3390|Karachi|\n",
            "|       3390|Karachi|\n",
            "|       3390|Karachi|\n",
            "|       3690|Karachi|\n",
            "|       3190| Lahore|\n",
            "|       3390| Lahore|\n",
            "|       3390| Lahore|\n",
            "|       3390| Lahore|\n",
            "|       3390| Lahore|\n",
            "|       3390| Lahore|\n",
            "|       3390| Lahore|\n",
            "|       3390| Lahore|\n",
            "|       3390| Lahore|\n",
            "|       3400| Lahore|\n",
            "|       3490| Lahore|\n",
            "|       3690| Lahore|\n",
            "+-----------+-------+\n",
            "only showing top 20 rows\n",
            "\n"
          ]
        }
      ]
    },
    {
      "cell_type": "markdown",
      "source": [
        "**15. Which cities generate the highest revenue?**"
      ],
      "metadata": {
        "id": "TanzTetVZQb-"
      }
    },
    {
      "cell_type": "code",
      "source": [
        "df.groupBy(\"city\").sum(\"total_value\").orderBy(\"sum(total_value)\", ascending=False).show(50)\n"
      ],
      "metadata": {
        "colab": {
          "base_uri": "https://localhost:8080/"
        },
        "id": "uFpcKQzrdU4w",
        "outputId": "0e6905fa-9e14-4e9d-98a6-fd6e2c4b5364"
      },
      "execution_count": 68,
      "outputs": [
        {
          "output_type": "stream",
          "name": "stdout",
          "text": [
            "+----------------+----------------+\n",
            "|            city|sum(total_value)|\n",
            "+----------------+----------------+\n",
            "|          Lahore|          466114|\n",
            "|         Karachi|          435243|\n",
            "|      Rawalpindi|          137747|\n",
            "|       Islamabad|          130718|\n",
            "|          Ghotki|           92000|\n",
            "|      Faisalabad|           49739|\n",
            "|          Multan|           42569|\n",
            "|        Peshawar|           42129|\n",
            "|       Hyderabad|           40787|\n",
            "|         Sialkot|           35727|\n",
            "|      Gujranwala|           28879|\n",
            "|          Quetta|           16390|\n",
            "|        Nowshera|           15840|\n",
            "|       Wah Cantt|           13530|\n",
            "|      Bahawalpur|           13249|\n",
            "|      Abbottabad|           12750|\n",
            "|  Rahim yar khan|            9579|\n",
            "|          Gujrat|            9140|\n",
            "|         Sahiwal|            8740|\n",
            "|  Mingora (swat)|            7450|\n",
            "|           DIGRI|            7140|\n",
            "|         Lodhran|            6680|\n",
            "|     RENALAKHURD|            6480|\n",
            "|     Sheikhupura|            6260|\n",
            "| Dera Ghazi Khan|            5580|\n",
            "|    Chicha Watni|            5180|\n",
            "|          GILGIT|            4880|\n",
            "|        Mianwali|            4770|\n",
            "|     ABDUL HAKIM|            4470|\n",
            "|        Batkhela|            4370|\n",
            "|        Khanewal|            4180|\n",
            "|          Mardan|            4179|\n",
            "|          Jhelum|            4170|\n",
            "|           Okara|            4089|\n",
            "|         Khanpur|            4080|\n",
            "|   Toba Tek Sing|            3960|\n",
            "|          Taxila|            3880|\n",
            "|        Sargodha|            3870|\n",
            "|      Tando Adam|            3780|\n",
            "|    Bahawalnagar|            3580|\n",
            "|       Hafizabad|            3580|\n",
            "|       Pakpattan|            3390|\n",
            "|       Liaqatpur|            3390|\n",
            "|Dera Ismail Khan|            3390|\n",
            "|    Dera ala yar|            3180|\n",
            "|          Sukkur|            3080|\n",
            "|        Mansehra|            3080|\n",
            "|        Khairpur|            3080|\n",
            "|          Turbat|            3080|\n",
            "|         Raiwind|            2880|\n",
            "+----------------+----------------+\n",
            "only showing top 50 rows\n",
            "\n"
          ]
        }
      ]
    },
    {
      "cell_type": "markdown",
      "source": [
        "**16. Which SKUs or categories are most popular?**"
      ],
      "metadata": {
        "id": "BWhMKnwieNlW"
      }
    },
    {
      "cell_type": "code",
      "source": [
        "df.groupBy(\"Stock_Keeping_Unit\").count().orderBy(\"count\", ascending=False).show()\n"
      ],
      "metadata": {
        "colab": {
          "base_uri": "https://localhost:8080/"
        },
        "id": "MswTM8Uad4H_",
        "outputId": "365306d7-d234-472c-849e-8b0d55bad7ce"
      },
      "execution_count": 69,
      "outputs": [
        {
          "output_type": "stream",
          "name": "stdout",
          "text": [
            "+------------------+-----+\n",
            "|Stock_Keeping_Unit|count|\n",
            "+------------------+-----+\n",
            "|            101-12|   88|\n",
            "|               Dng|   76|\n",
            "|            101-15|   67|\n",
            "|            201-12|   66|\n",
            "|            101-18|   62|\n",
            "|            201-18|   46|\n",
            "|            201-15|   39|\n",
            "|           Minim15|   33|\n",
            "|             Zen12|   28|\n",
            "|           Minim12|   26|\n",
            "|             Zen16|   26|\n",
            "|            Eidi2p|   26|\n",
            "|               DIY|   16|\n",
            "|            Minim9|   15|\n",
            "|           Crclr15|   12|\n",
            "|            001-12|   12|\n",
            "|               pta|   11|\n",
            "|          Silent15|   10|\n",
            "|          Silent12|    8|\n",
            "|          Silent18|    8|\n",
            "+------------------+-----+\n",
            "only showing top 20 rows\n",
            "\n"
          ]
        }
      ]
    },
    {
      "cell_type": "markdown",
      "source": [
        "**17. Which order sources (Web, WhatsApp) lead to more sales?**"
      ],
      "metadata": {
        "id": "KNSfe9mmeh4X"
      }
    },
    {
      "cell_type": "code",
      "source": [
        "df.show(1)"
      ],
      "metadata": {
        "colab": {
          "base_uri": "https://localhost:8080/"
        },
        "id": "4TjA3rThepPC",
        "outputId": "f3615751-86f6-4bde-8eb9-6ba9f6a18001"
      },
      "execution_count": 70,
      "outputs": [
        {
          "output_type": "stream",
          "name": "stdout",
          "text": [
            "+--------+------------+------------+----------+--------+------------------+--------+-----+-------+-----------+\n",
            "|order_id|order_status|order_source|order_date|category|Stock_Keeping_Unit|quantity|sales|   city|total_value|\n",
            "+--------+------------+------------+----------+--------+------------------+--------+-----+-------+-----------+\n",
            "|    5447|     Shipped|    Whatsapp|04/01/2025|      CK|               Dng|       1| 1590|Karachi|       1590|\n",
            "+--------+------------+------------+----------+--------+------------------+--------+-----+-------+-----------+\n",
            "only showing top 1 row\n",
            "\n"
          ]
        }
      ]
    },
    {
      "cell_type": "code",
      "source": [
        "df.groupBy('order_source').sum('total_value').show()"
      ],
      "metadata": {
        "colab": {
          "base_uri": "https://localhost:8080/"
        },
        "id": "PVwdgm1JerNG",
        "outputId": "a7ffd8b3-c629-4ea4-a745-603712a5be5b"
      },
      "execution_count": 71,
      "outputs": [
        {
          "output_type": "stream",
          "name": "stdout",
          "text": [
            "+------------+----------------+\n",
            "|order_source|sum(total_value)|\n",
            "+------------+----------------+\n",
            "|    Whatsapp|          333127|\n",
            "|         Web|         1485974|\n",
            "+------------+----------------+\n",
            "\n"
          ]
        }
      ]
    },
    {
      "cell_type": "markdown",
      "source": [
        "**18. Which order statuses dominate?**"
      ],
      "metadata": {
        "id": "qWX2v2LOfFBa"
      }
    },
    {
      "cell_type": "code",
      "source": [
        "df.groupBy('order_status').count().show()"
      ],
      "metadata": {
        "colab": {
          "base_uri": "https://localhost:8080/"
        },
        "id": "fj3F3Y0ofEF4",
        "outputId": "ac05a225-dd48-4d80-e8eb-7370bbef82bb"
      },
      "execution_count": 72,
      "outputs": [
        {
          "output_type": "stream",
          "name": "stdout",
          "text": [
            "+------------+-----+\n",
            "|order_status|count|\n",
            "+------------+-----+\n",
            "|     Shipped|  662|\n",
            "|        Hold|   17|\n",
            "|   Cancelled|  116|\n",
            "|      Pickup|    1|\n",
            "|      Booked|    1|\n",
            "+------------+-----+\n",
            "\n"
          ]
        }
      ]
    },
    {
      "cell_type": "markdown",
      "source": [
        "**19. Orders or Sales per month**"
      ],
      "metadata": {
        "id": "JirEMO7afc70"
      }
    },
    {
      "cell_type": "code",
      "source": [
        "## Extract Month\n",
        "from pyspark.sql.functions import month, to_date\n",
        "df = df.withColumn(\"order_month\", month(to_date(\"order_date\", \"dd/MM/yyyy\")))\n",
        "df.show()"
      ],
      "metadata": {
        "colab": {
          "base_uri": "https://localhost:8080/"
        },
        "id": "RH_Y4BkRfhWq",
        "outputId": "ec27d4c8-3fe8-42c1-9c1f-c901376b6df8"
      },
      "execution_count": 75,
      "outputs": [
        {
          "output_type": "stream",
          "name": "stdout",
          "text": [
            "+--------+------------+------------+----------+--------+------------------+--------+-----+-------+-----------+-----------+\n",
            "|order_id|order_status|order_source|order_date|category|Stock_Keeping_Unit|quantity|sales|   city|total_value|order_month|\n",
            "+--------+------------+------------+----------+--------+------------------+--------+-----+-------+-----------+-----------+\n",
            "|    5447|     Shipped|    Whatsapp|04/01/2025|      CK|               Dng|       1| 1590|Karachi|       1590|          1|\n",
            "|   14127|     Shipped|         Web|08/01/2025|      CK|               DIY|       1|  899|Karachi|        899|          1|\n",
            "|   14213|     Shipped|         Web|19/01/2025|      CK|               DIY|       1|  899|Karachi|        899|          1|\n",
            "|   14333|     Shipped|         Web|05/02/2025|      CK|           Simply9|       1|  990|Karachi|        990|          2|\n",
            "|   14397|     Shipped|         Web|16/02/2025|      CK|           Simply9|       1|  990|Karachi|        990|          2|\n",
            "|   14517|     Shipped|         Web|19/03/2025|     GfT|            Eidi2p|       1|  999|Karachi|        999|          3|\n",
            "|   14265|     Shipped|         Web|25/01/2025|      CK|             Geo12|       1| 1090|Karachi|       1090|          1|\n",
            "|   14325|     Shipped|         Web|03/02/2025|      CK|             Geo12|       1| 1090|Karachi|       1090|          2|\n",
            "|   14356|     Shipped|         Web|08/02/2025|      CK|             Geo12|       1| 1090|Karachi|       1090|          2|\n",
            "|   14451|     Shipped|         Web|26/02/2025|      CK|             Geo12|       1| 1090|Karachi|       1090|          2|\n",
            "|   14765|     Shipped|         Web|23/05/2025|      CK|          Simply12|       1| 1090|Karachi|       1090|          5|\n",
            "|    5462|     Shipped|    Whatsapp|05/03/2025|      WD|          Triangle|       1| 1090|Karachi|       1090|          3|\n",
            "|   14171|     Shipped|         Web|13/01/2025|      CK|           Minim12|       1| 1190|Karachi|       1190|          1|\n",
            "|   14183|     Shipped|         Web|15/01/2025|      CK|            Gear12|       1| 1190|Karachi|       1190|          1|\n",
            "|   14201|     Shipped|         Web|17/01/2025|     HNS|            201-12|       1| 1190|Karachi|       1190|          1|\n",
            "|   14216|     Shipped|         Web|19/01/2025|      CK|           Minim12|       1| 1190|Karachi|       1190|          1|\n",
            "|   14291|     Shipped|         Web|28/01/2025|      CK|           Swirl15|       1| 1190|Karachi|       1190|          1|\n",
            "|   14342|     Shipped|         Web|06/02/2025|      WD|           Circles|       1| 1190|Karachi|       1190|          2|\n",
            "|   14342|     Shipped|         Web|06/02/2025|      CK|           Minim12|       1| 1190|Karachi|       1190|          2|\n",
            "|   14351|     Shipped|         Web|07/02/2025|      CK|           Minim12|       1| 1190|Karachi|       1190|          2|\n",
            "+--------+------------+------------+----------+--------+------------------+--------+-----+-------+-----------+-----------+\n",
            "only showing top 20 rows\n",
            "\n"
          ]
        }
      ]
    },
    {
      "cell_type": "code",
      "source": [
        "df.groupBy('order_month').count().orderBy('order_month').show()"
      ],
      "metadata": {
        "colab": {
          "base_uri": "https://localhost:8080/"
        },
        "id": "VtxsKRaMfxl_",
        "outputId": "9fdae96e-75a7-4a17-b92d-efb416a20ffa"
      },
      "execution_count": 80,
      "outputs": [
        {
          "output_type": "stream",
          "name": "stdout",
          "text": [
            "+-----------+-----+\n",
            "|order_month|count|\n",
            "+-----------+-----+\n",
            "|          1|  262|\n",
            "|          2|  168|\n",
            "|          3|   65|\n",
            "|          4|  167|\n",
            "|          5|  105|\n",
            "|          6|   30|\n",
            "+-----------+-----+\n",
            "\n"
          ]
        }
      ]
    },
    {
      "cell_type": "markdown",
      "source": [
        "**20. Canceled vs Shipped orders — what % get canceled?**"
      ],
      "metadata": {
        "id": "6227uR6KgUAH"
      }
    },
    {
      "cell_type": "code",
      "source": [
        "## Count Order by Status\n",
        "order_status_count=df.groupBy('order_status').count()\n",
        "order_status_count.show()"
      ],
      "metadata": {
        "colab": {
          "base_uri": "https://localhost:8080/"
        },
        "id": "3ZJu9pvIgTSB",
        "outputId": "b6775516-f328-4cb7-a69d-7b456fc5d032"
      },
      "execution_count": 89,
      "outputs": [
        {
          "output_type": "stream",
          "name": "stdout",
          "text": [
            "+------------+-----+\n",
            "|order_status|count|\n",
            "+------------+-----+\n",
            "|     Shipped|  662|\n",
            "|        Hold|   17|\n",
            "|   Cancelled|  116|\n",
            "|      Pickup|    1|\n",
            "|      Booked|    1|\n",
            "+------------+-----+\n",
            "\n"
          ]
        }
      ]
    },
    {
      "cell_type": "code",
      "source": [
        "## Get total number of order\n",
        "total_orders = df.count()\n",
        "total_orders"
      ],
      "metadata": {
        "colab": {
          "base_uri": "https://localhost:8080/"
        },
        "id": "n26T_CECgd2j",
        "outputId": "6ccb04d7-9e28-40d1-fb96-f3bd272d0f9a"
      },
      "execution_count": 87,
      "outputs": [
        {
          "output_type": "execute_result",
          "data": {
            "text/plain": [
              "797"
            ]
          },
          "metadata": {},
          "execution_count": 87
        }
      ]
    },
    {
      "cell_type": "code",
      "source": [
        "df.show(1)"
      ],
      "metadata": {
        "colab": {
          "base_uri": "https://localhost:8080/"
        },
        "id": "cD1LirmBgnMN",
        "outputId": "a52177d1-055e-4003-8bdc-91ccb49e355a"
      },
      "execution_count": 84,
      "outputs": [
        {
          "output_type": "stream",
          "name": "stdout",
          "text": [
            "+--------+------------+------------+----------+--------+------------------+--------+-----+-------+-----------+-----------+\n",
            "|order_id|order_status|order_source|order_date|category|Stock_Keeping_Unit|quantity|sales|   city|total_value|order_month|\n",
            "+--------+------------+------------+----------+--------+------------------+--------+-----+-------+-----------+-----------+\n",
            "|    5447|     Shipped|    Whatsapp|04/01/2025|      CK|               Dng|       1| 1590|Karachi|       1590|          1|\n",
            "+--------+------------+------------+----------+--------+------------------+--------+-----+-------+-----------+-----------+\n",
            "only showing top 1 row\n",
            "\n"
          ]
        }
      ]
    },
    {
      "cell_type": "code",
      "source": [
        "## Calculate Percentages\n",
        "from pyspark.sql.functions import col, lit, round\n",
        "\n",
        "# Add total_orders as a literal column to compute %\n",
        "status_percent = order_status_count.withColumn(\"percent\",\n",
        "    round((col(\"count\") / lit(total_orders)) * 100, 2)\n",
        ")\n",
        "\n",
        "status_percent.show()\n"
      ],
      "metadata": {
        "colab": {
          "base_uri": "https://localhost:8080/"
        },
        "id": "lmpBGWvAhalf",
        "outputId": "c381dae1-8652-4f57-ad19-73c144e10ff6"
      },
      "execution_count": 90,
      "outputs": [
        {
          "output_type": "stream",
          "name": "stdout",
          "text": [
            "+------------+-----+-------+\n",
            "|order_status|count|percent|\n",
            "+------------+-----+-------+\n",
            "|     Shipped|  662|  83.06|\n",
            "|        Hold|   17|   2.13|\n",
            "|   Cancelled|  116|  14.55|\n",
            "|      Pickup|    1|   0.13|\n",
            "|      Booked|    1|   0.13|\n",
            "+------------+-----+-------+\n",
            "\n"
          ]
        }
      ]
    }
  ]
}